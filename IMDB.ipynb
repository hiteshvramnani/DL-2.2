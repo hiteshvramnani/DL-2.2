{
  "nbformat": 4,
  "nbformat_minor": 0,
  "metadata": {
    "colab": {
      "provenance": []
    },
    "kernelspec": {
      "name": "python3",
      "display_name": "Python 3"
    },
    "language_info": {
      "name": "python"
    }
  },
  "cells": [
    {
      "cell_type": "code",
      "execution_count": 1,
      "metadata": {
        "id": "nIzOSvsXbVYj"
      },
      "outputs": [],
      "source": [
        "from tensorflow.keras.datasets import imdb"
      ]
    },
    {
      "cell_type": "code",
      "source": [
        "(train_data, train_label), (test_data, test_label) = imdb.load_data(num_words = 10000)"
      ],
      "metadata": {
        "colab": {
          "base_uri": "https://localhost:8080/"
        },
        "id": "v0-SSV-lbyLw",
        "outputId": "04719042-ac45-46a6-fc4e-ddab95b67319"
      },
      "execution_count": 2,
      "outputs": [
        {
          "output_type": "stream",
          "name": "stdout",
          "text": [
            "Downloading data from https://storage.googleapis.com/tensorflow/tf-keras-datasets/imdb.npz\n",
            "17464789/17464789 [==============================] - 0s 0us/step\n"
          ]
        }
      ]
    },
    {
      "cell_type": "code",
      "source": [
        "import numpy as np\n",
        "\n",
        "def vectorize_sequences(sequences, dimensions = 10000):\n",
        "  results = np.zeros((len(sequences), dimensions))\n",
        "  for i,sequences in enumerate(sequences):\n",
        "    results[i, sequences] = 1\n",
        "  return results\n",
        "\n",
        "x_train = vectorize_sequences(train_data)\n",
        "y_train = vectorize_sequences(test_data)"
      ],
      "metadata": {
        "id": "1C7pH64rbzNo"
      },
      "execution_count": 3,
      "outputs": []
    },
    {
      "cell_type": "code",
      "source": [
        "y_train = np.asarray(train_label).astype('float32')\n",
        "y_test = np.asarray(test_label).astype('float32')"
      ],
      "metadata": {
        "id": "bBUlEO18b0R9"
      },
      "execution_count": 4,
      "outputs": []
    },
    {
      "cell_type": "code",
      "source": [
        "from tensorflow.keras.models import Sequential\n",
        "from tensorflow.keras.layers import Dense"
      ],
      "metadata": {
        "id": "LD2S--4vb1hW"
      },
      "execution_count": 5,
      "outputs": []
    },
    {
      "cell_type": "code",
      "source": [
        "model = Sequential()\n",
        "model.add(Dense(16, input_shape=(10000, ), activation = \"relu\"))\n",
        "model.add(Dense(16, activation = \"relu\"))\n",
        "model.add(Dense(1, activation = \"sigmoid\"))"
      ],
      "metadata": {
        "id": "AWqj1O6vb2rr"
      },
      "execution_count": 6,
      "outputs": []
    },
    {
      "cell_type": "code",
      "source": [
        "model.compile(optimizer='adam', loss = 'mse', metrics = ['accuracy'])"
      ],
      "metadata": {
        "id": "7U6gto4rb3np"
      },
      "execution_count": 7,
      "outputs": []
    },
    {
      "cell_type": "code",
      "source": [
        "model.summary()"
      ],
      "metadata": {
        "colab": {
          "base_uri": "https://localhost:8080/"
        },
        "id": "B8JFcCs4b4_r",
        "outputId": "2d142fad-f1e0-4564-a702-21f5be28aa3b"
      },
      "execution_count": 8,
      "outputs": [
        {
          "output_type": "stream",
          "name": "stdout",
          "text": [
            "Model: \"sequential\"\n",
            "_________________________________________________________________\n",
            " Layer (type)                Output Shape              Param #   \n",
            "=================================================================\n",
            " dense (Dense)               (None, 16)                160016    \n",
            "                                                                 \n",
            " dense_1 (Dense)             (None, 16)                272       \n",
            "                                                                 \n",
            " dense_2 (Dense)             (None, 1)                 17        \n",
            "                                                                 \n",
            "=================================================================\n",
            "Total params: 160,305\n",
            "Trainable params: 160,305\n",
            "Non-trainable params: 0\n",
            "_________________________________________________________________\n"
          ]
        }
      ]
    },
    {
      "cell_type": "code",
      "source": [
        "history = model.fit(x_train, y_train, validation_split = 0.3, epochs = 20, verbose = 1, batch_size = 512)"
      ],
      "metadata": {
        "colab": {
          "base_uri": "https://localhost:8080/"
        },
        "id": "z2gnDDXXb6I9",
        "outputId": "e2c8883f-2d40-48b0-8a4b-14da451715a8"
      },
      "execution_count": 9,
      "outputs": [
        {
          "output_type": "stream",
          "name": "stdout",
          "text": [
            "Epoch 1/20\n",
            "35/35 [==============================] - 2s 38ms/step - loss: 0.1903 - accuracy: 0.7779 - val_loss: 0.1242 - val_accuracy: 0.8692\n",
            "Epoch 2/20\n",
            "35/35 [==============================] - 1s 20ms/step - loss: 0.0913 - accuracy: 0.9018 - val_loss: 0.0889 - val_accuracy: 0.8896\n",
            "Epoch 3/20\n",
            "35/35 [==============================] - 1s 16ms/step - loss: 0.0611 - accuracy: 0.9335 - val_loss: 0.0810 - val_accuracy: 0.8933\n",
            "Epoch 4/20\n",
            "35/35 [==============================] - 1s 19ms/step - loss: 0.0464 - accuracy: 0.9507 - val_loss: 0.0804 - val_accuracy: 0.8933\n",
            "Epoch 5/20\n",
            "35/35 [==============================] - 1s 17ms/step - loss: 0.0361 - accuracy: 0.9647 - val_loss: 0.0813 - val_accuracy: 0.8917\n",
            "Epoch 6/20\n",
            "35/35 [==============================] - 1s 17ms/step - loss: 0.0283 - accuracy: 0.9746 - val_loss: 0.0834 - val_accuracy: 0.8895\n",
            "Epoch 7/20\n",
            "35/35 [==============================] - 1s 16ms/step - loss: 0.0224 - accuracy: 0.9817 - val_loss: 0.0863 - val_accuracy: 0.8856\n",
            "Epoch 8/20\n",
            "35/35 [==============================] - 1s 19ms/step - loss: 0.0178 - accuracy: 0.9864 - val_loss: 0.0891 - val_accuracy: 0.8815\n",
            "Epoch 9/20\n",
            "35/35 [==============================] - 1s 17ms/step - loss: 0.0142 - accuracy: 0.9895 - val_loss: 0.0910 - val_accuracy: 0.8803\n",
            "Epoch 10/20\n",
            "35/35 [==============================] - 1s 18ms/step - loss: 0.0115 - accuracy: 0.9918 - val_loss: 0.0926 - val_accuracy: 0.8795\n",
            "Epoch 11/20\n",
            "35/35 [==============================] - 1s 16ms/step - loss: 0.0096 - accuracy: 0.9931 - val_loss: 0.0947 - val_accuracy: 0.8764\n",
            "Epoch 12/20\n",
            "35/35 [==============================] - 1s 16ms/step - loss: 0.0083 - accuracy: 0.9940 - val_loss: 0.0966 - val_accuracy: 0.8753\n",
            "Epoch 13/20\n",
            "35/35 [==============================] - 1s 17ms/step - loss: 0.0073 - accuracy: 0.9946 - val_loss: 0.0982 - val_accuracy: 0.8744\n",
            "Epoch 14/20\n",
            "35/35 [==============================] - 1s 17ms/step - loss: 0.0066 - accuracy: 0.9947 - val_loss: 0.0994 - val_accuracy: 0.8744\n",
            "Epoch 15/20\n",
            "35/35 [==============================] - 1s 17ms/step - loss: 0.0061 - accuracy: 0.9951 - val_loss: 0.1002 - val_accuracy: 0.8732\n",
            "Epoch 16/20\n",
            "35/35 [==============================] - 1s 17ms/step - loss: 0.0056 - accuracy: 0.9953 - val_loss: 0.1012 - val_accuracy: 0.8739\n",
            "Epoch 17/20\n",
            "35/35 [==============================] - 1s 16ms/step - loss: 0.0054 - accuracy: 0.9954 - val_loss: 0.1022 - val_accuracy: 0.8728\n",
            "Epoch 18/20\n",
            "35/35 [==============================] - 1s 17ms/step - loss: 0.0051 - accuracy: 0.9957 - val_loss: 0.1029 - val_accuracy: 0.8728\n",
            "Epoch 19/20\n",
            "35/35 [==============================] - 1s 26ms/step - loss: 0.0049 - accuracy: 0.9958 - val_loss: 0.1036 - val_accuracy: 0.8715\n",
            "Epoch 20/20\n",
            "35/35 [==============================] - 1s 26ms/step - loss: 0.0047 - accuracy: 0.9958 - val_loss: 0.1042 - val_accuracy: 0.8719\n"
          ]
        }
      ]
    },
    {
      "cell_type": "code",
      "source": [],
      "metadata": {
        "id": "FiHPTlDJb7j1"
      },
      "execution_count": null,
      "outputs": []
    }
  ]
}